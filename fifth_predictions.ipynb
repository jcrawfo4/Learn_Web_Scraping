{
 "cells": [
  {
   "cell_type": "code",
   "execution_count": 4,
   "id": "initial_id",
   "metadata": {
    "collapsed": true,
    "ExecuteTime": {
     "end_time": "2023-10-26T19:14:06.962614Z",
     "start_time": "2023-10-26T19:14:06.273134Z"
    }
   },
   "outputs": [],
   "source": [
    "import pandas as pd\n",
    "import numpy as np\n",
    "import matplotlib.pyplot as plt\n",
    "import seaborn as sns\n",
    "%matplotlib inline\n"
   ]
  },
  {
   "cell_type": "code",
   "execution_count": 5,
   "outputs": [],
   "source": [
    "import sqlite3\n"
   ],
   "metadata": {
    "collapsed": false,
    "ExecuteTime": {
     "end_time": "2023-10-26T19:14:07.003118Z",
     "start_time": "2023-10-26T19:14:06.311873Z"
    }
   },
   "id": "500ce7d3e7912d15"
  },
  {
   "cell_type": "code",
   "execution_count": 6,
   "outputs": [],
   "source": [
    "from sqlite3 import connect\n",
    "\n",
    "# Connect to the database\n",
    "\n",
    "con = sqlite3.connect('/Users/jacobcrawford/PycharmProjects/Learn_Web_Scraping/lotto_numbers')"
   ],
   "metadata": {
    "collapsed": false,
    "ExecuteTime": {
     "end_time": "2023-10-26T19:14:07.005974Z",
     "start_time": "2023-10-26T19:14:06.328005Z"
    }
   },
   "id": "a87b7517879fc6ae"
  },
  {
   "cell_type": "code",
   "execution_count": 7,
   "outputs": [],
   "source": [
    "# run sql\n",
    "sql_query = pd.read_sql('select date, first, second, third, fourth, fifth from lotto_numbers', con)"
   ],
   "metadata": {
    "collapsed": false,
    "ExecuteTime": {
     "end_time": "2023-10-26T19:14:07.071180Z",
     "start_time": "2023-10-26T19:14:06.339742Z"
    }
   },
   "id": "2e81f842049e0e05"
  },
  {
   "cell_type": "code",
   "execution_count": 8,
   "outputs": [],
   "source": [
    "# convert sql to DataFrame\n",
    "df = pd.DataFrame(sql_query, columns=[\"date\", \"first\", \"second\", \"third\", \"fourth\", \"fifth\"])"
   ],
   "metadata": {
    "collapsed": false,
    "ExecuteTime": {
     "end_time": "2023-10-26T19:14:07.072278Z",
     "start_time": "2023-10-26T19:14:06.432262Z"
    }
   },
   "id": "3fc8d73263dba90c"
  },
  {
   "cell_type": "code",
   "execution_count": 9,
   "outputs": [
    {
     "data": {
      "text/plain": "first      6.0\nsecond    14.0\nthird     23.0\nfourth    32.0\nfifth     40.0\ndtype: float64"
     },
     "execution_count": 9,
     "metadata": {},
     "output_type": "execute_result"
    }
   ],
   "source": [
    "df.median(numeric_only=True)\n"
   ],
   "metadata": {
    "collapsed": false,
    "ExecuteTime": {
     "end_time": "2023-10-26T19:14:07.120806Z",
     "start_time": "2023-10-26T19:14:06.453661Z"
    }
   },
   "id": "59c1238b8f59e059"
  },
  {
   "cell_type": "code",
   "execution_count": 10,
   "outputs": [],
   "source": [
    "y = df['fifth']\n"
   ],
   "metadata": {
    "collapsed": false,
    "ExecuteTime": {
     "end_time": "2023-10-26T19:14:07.122311Z",
     "start_time": "2023-10-26T19:14:06.504062Z"
    }
   },
   "id": "33897deaaedb667c"
  },
  {
   "cell_type": "code",
   "execution_count": 11,
   "outputs": [],
   "source": [
    "X = df[['first', 'second', 'third', 'fourth']]"
   ],
   "metadata": {
    "collapsed": false,
    "ExecuteTime": {
     "end_time": "2023-10-26T19:14:07.122950Z",
     "start_time": "2023-10-26T19:14:06.528642Z"
    }
   },
   "id": "494643379838fc02"
  },
  {
   "cell_type": "code",
   "execution_count": 12,
   "outputs": [
    {
     "data": {
      "text/plain": "first      6.0\nsecond    14.0\nthird     23.0\nfourth    32.0\ndtype: float64"
     },
     "execution_count": 12,
     "metadata": {},
     "output_type": "execute_result"
    }
   ],
   "source": [
    "X.median()"
   ],
   "metadata": {
    "collapsed": false,
    "ExecuteTime": {
     "end_time": "2023-10-26T19:14:07.126248Z",
     "start_time": "2023-10-26T19:14:06.550911Z"
    }
   },
   "id": "edc207022b8ab862"
  },
  {
   "cell_type": "code",
   "execution_count": 13,
   "outputs": [],
   "source": [
    "from sklearn.model_selection import train_test_split\n",
    "\n",
    "\n"
   ],
   "metadata": {
    "collapsed": false,
    "ExecuteTime": {
     "end_time": "2023-10-26T19:14:07.184256Z",
     "start_time": "2023-10-26T19:14:06.573017Z"
    }
   },
   "id": "1f3f93837ea86700"
  },
  {
   "cell_type": "code",
   "execution_count": 14,
   "outputs": [],
   "source": [
    "X_train,X_test,y_train,y_test = train_test_split(X,y,test_size=0.3)"
   ],
   "metadata": {
    "collapsed": false,
    "ExecuteTime": {
     "end_time": "2023-10-26T19:14:07.187633Z",
     "start_time": "2023-10-26T19:14:06.591640Z"
    }
   },
   "id": "163028b8b7e11b39"
  },
  {
   "cell_type": "code",
   "execution_count": 15,
   "outputs": [],
   "source": [
    "from sklearn.ensemble import RandomForestClassifier\n",
    "rfclf = RandomForestClassifier(n_estimators=1000, random_state=40)\n",
    "rfclf.fit(X_train,y_train)\n",
    "pred = rfclf.predict(X_test)"
   ],
   "metadata": {
    "collapsed": false,
    "ExecuteTime": {
     "end_time": "2023-10-26T19:14:33.611837Z",
     "start_time": "2023-10-26T19:14:06.619278Z"
    }
   },
   "id": "dc1999fdea235966"
  },
  {
   "cell_type": "code",
   "execution_count": 16,
   "outputs": [
    {
     "data": {
      "text/plain": "'              precision    recall  f1-score   support\\n\\n          12       0.50      1.00      0.67         1\\n          13       0.00      0.00      0.00         1\\n          14       0.00      0.00      0.00         0\\n          15       0.00      0.00      0.00         2\\n          16       0.00      0.00      0.00         3\\n          17       0.00      0.00      0.00         6\\n          18       0.00      0.00      0.00         2\\n          19       0.17      0.11      0.13         9\\n          20       0.11      0.11      0.11         9\\n          21       0.00      0.00      0.00        10\\n          22       0.09      0.11      0.10         9\\n          23       0.00      0.00      0.00         9\\n          24       0.00      0.00      0.00        10\\n          25       0.00      0.00      0.00        14\\n          26       0.05      0.15      0.08        13\\n          27       0.00      0.00      0.00        23\\n          28       0.10      0.10      0.10        30\\n          29       0.03      0.04      0.03        28\\n          30       0.02      0.02      0.02        46\\n          31       0.02      0.03      0.02        40\\n          32       0.07      0.11      0.09        47\\n          33       0.05      0.03      0.04        63\\n          34       0.03      0.03      0.03        68\\n          35       0.08      0.09      0.08        68\\n          36       0.06      0.05      0.05        86\\n          37       0.10      0.10      0.10        91\\n          38       0.08      0.06      0.07       122\\n          39       0.10      0.10      0.10       121\\n          40       0.09      0.08      0.08       135\\n          41       0.07      0.07      0.07       134\\n          42       0.06      0.06      0.06       161\\n          43       0.15      0.18      0.16       182\\n          44       0.15      0.14      0.15       202\\n          45       0.23      0.23      0.23       219\\n\\n    accuracy                           0.10      1964\\n   macro avg       0.07      0.09      0.08      1964\\nweighted avg       0.10      0.10      0.10      1964\\n'"
     },
     "execution_count": 16,
     "metadata": {},
     "output_type": "execute_result"
    }
   ],
   "source": [
    "from sklearn.metrics import classification_report,confusion_matrix\n",
    "classification_report(y_test,pred, zero_division=False)"
   ],
   "metadata": {
    "collapsed": false,
    "ExecuteTime": {
     "end_time": "2023-10-26T19:14:33.762243Z",
     "start_time": "2023-10-26T19:14:33.624285Z"
    }
   },
   "id": "73fecfdcc2a67d1e"
  },
  {
   "cell_type": "code",
   "execution_count": 17,
   "outputs": [],
   "source": [
    "from sklearn.metrics import classification_report,confusion_matrix"
   ],
   "metadata": {
    "collapsed": false,
    "ExecuteTime": {
     "end_time": "2023-10-26T19:14:33.814799Z",
     "start_time": "2023-10-26T19:14:33.694558Z"
    }
   },
   "id": "1c5c757229ced82a"
  },
  {
   "cell_type": "code",
   "execution_count": 18,
   "outputs": [
    {
     "name": "stdout",
     "output_type": "stream",
     "text": [
      "              precision    recall  f1-score   support\n",
      "\n",
      "          12       0.50      1.00      0.67         1\n",
      "          13       0.00      0.00      0.00         1\n",
      "          14       0.00      0.00      0.00         0\n",
      "          15       0.00      0.00      0.00         2\n",
      "          16       0.00      0.00      0.00         3\n",
      "          17       0.00      0.00      0.00         6\n",
      "          18       0.00      0.00      0.00         2\n",
      "          19       0.17      0.11      0.13         9\n",
      "          20       0.11      0.11      0.11         9\n",
      "          21       0.00      0.00      0.00        10\n",
      "          22       0.09      0.11      0.10         9\n",
      "          23       0.00      0.00      0.00         9\n",
      "          24       0.00      0.00      0.00        10\n",
      "          25       0.00      0.00      0.00        14\n",
      "          26       0.05      0.15      0.08        13\n",
      "          27       0.00      0.00      0.00        23\n",
      "          28       0.10      0.10      0.10        30\n",
      "          29       0.03      0.04      0.03        28\n",
      "          30       0.02      0.02      0.02        46\n",
      "          31       0.02      0.03      0.02        40\n",
      "          32       0.07      0.11      0.09        47\n",
      "          33       0.05      0.03      0.04        63\n",
      "          34       0.03      0.03      0.03        68\n",
      "          35       0.08      0.09      0.08        68\n",
      "          36       0.06      0.05      0.05        86\n",
      "          37       0.10      0.10      0.10        91\n",
      "          38       0.08      0.06      0.07       122\n",
      "          39       0.10      0.10      0.10       121\n",
      "          40       0.09      0.08      0.08       135\n",
      "          41       0.07      0.07      0.07       134\n",
      "          42       0.06      0.06      0.06       161\n",
      "          43       0.15      0.18      0.16       182\n",
      "          44       0.15      0.14      0.15       202\n",
      "          45       0.23      0.23      0.23       219\n",
      "\n",
      "    accuracy                           0.10      1964\n",
      "   macro avg       0.07      0.09      0.08      1964\n",
      "weighted avg       0.10      0.10      0.10      1964\n"
     ]
    }
   ],
   "source": [
    "print(classification_report(y_test,pred, zero_division=False))"
   ],
   "metadata": {
    "collapsed": false,
    "ExecuteTime": {
     "end_time": "2023-10-26T19:14:33.863312Z",
     "start_time": "2023-10-26T19:14:33.727685Z"
    }
   },
   "id": "f1dc3143b3365c4e"
  },
  {
   "cell_type": "code",
   "execution_count": 19,
   "outputs": [],
   "source": [
    "from sklearn.metrics import accuracy_score\n",
    "accruacy = accuracy_score(y_test, pred) #(1/len(pred)) * sum(pred == y_test)\n"
   ],
   "metadata": {
    "collapsed": false,
    "ExecuteTime": {
     "end_time": "2023-10-26T19:14:34.076732Z",
     "start_time": "2023-10-26T19:14:33.788330Z"
    }
   },
   "id": "e280cd268fa04642"
  },
  {
   "cell_type": "code",
   "execution_count": 20,
   "outputs": [
    {
     "data": {
      "text/plain": "0.10336048879837068"
     },
     "execution_count": 20,
     "metadata": {},
     "output_type": "execute_result"
    }
   ],
   "source": [
    "accruacy\n"
   ],
   "metadata": {
    "collapsed": false,
    "ExecuteTime": {
     "end_time": "2023-10-26T19:14:34.130985Z",
     "start_time": "2023-10-26T19:14:33.805882Z"
    }
   },
   "id": "e8a98519a7cd6468"
  },
  {
   "cell_type": "code",
   "execution_count": 21,
   "outputs": [],
   "source": [
    "from sklearn.model_selection import GridSearchCV\n",
    "param_grid = {'C': [1, 10, 100, 1000], 'gamma': [1,0.1,0.01,0.001]}\n"
   ],
   "metadata": {
    "collapsed": false,
    "ExecuteTime": {
     "end_time": "2023-10-26T19:14:34.132246Z",
     "start_time": "2023-10-26T19:14:33.821339Z"
    }
   },
   "id": "f9c61e4edabeeb18"
  },
  {
   "cell_type": "code",
   "execution_count": 83,
   "outputs": [],
   "source": [
    "from sklearn.svm import SVC\n",
    "svc = SVC(kernel=\"rbf\", gamma=0.5, C=1.0)\n",
    "svc_model = svc.fit(X_train,y_train)"
   ],
   "metadata": {
    "collapsed": false,
    "ExecuteTime": {
     "end_time": "2023-10-27T03:31:09.909780Z",
     "start_time": "2023-10-27T03:31:01.477576Z"
    }
   },
   "id": "d701475a1fb03c3c"
  },
  {
   "cell_type": "code",
   "execution_count": 84,
   "outputs": [],
   "source": [
    "grid = GridSearchCV(SVC(),param_grid,refit=True,verbose=2)"
   ],
   "metadata": {
    "collapsed": false,
    "ExecuteTime": {
     "end_time": "2023-10-27T03:31:18.438875Z",
     "start_time": "2023-10-27T03:31:18.397480Z"
    }
   },
   "id": "482161c3a0a10550"
  },
  {
   "cell_type": "code",
   "execution_count": 85,
   "outputs": [],
   "source": [
    "predictions = svc_model.predict(X_test)"
   ],
   "metadata": {
    "collapsed": false,
    "ExecuteTime": {
     "end_time": "2023-10-27T03:31:26.697446Z",
     "start_time": "2023-10-27T03:31:22.348343Z"
    }
   },
   "id": "e6fd09acd328afb5"
  },
  {
   "cell_type": "code",
   "execution_count": 25,
   "outputs": [],
   "source": [
    "from sklearn.metrics import classification_report,confusion_matrix"
   ],
   "metadata": {
    "collapsed": false,
    "ExecuteTime": {
     "end_time": "2023-10-26T19:18:56.620185Z",
     "start_time": "2023-10-26T19:18:56.557124Z"
    }
   },
   "id": "d0a1460a1835df70"
  },
  {
   "cell_type": "code",
   "execution_count": 86,
   "outputs": [
    {
     "name": "stdout",
     "output_type": "stream",
     "text": [
      "              precision    recall  f1-score   support\n",
      "\n",
      "          15       0.00      0.00      0.00         2\n",
      "          16       0.00      0.00      0.00         4\n",
      "          17       0.00      0.00      0.00         4\n",
      "          18       0.00      0.00      0.00         7\n",
      "          19       0.00      0.00      0.00         6\n",
      "          20       0.00      0.00      0.00         3\n",
      "          21       0.00      0.00      0.00        12\n",
      "          22       0.00      0.00      0.00         9\n",
      "          23       0.00      0.00      0.00        14\n",
      "          24       0.00      0.00      0.00        21\n",
      "          25       0.00      0.00      0.00        21\n",
      "          26       0.00      0.00      0.00        19\n",
      "          27       0.00      0.00      0.00        25\n",
      "          28       0.00      0.00      0.00        30\n",
      "          29       0.00      0.00      0.00        42\n",
      "          30       0.00      0.00      0.00        42\n",
      "          31       0.00      0.00      0.00        47\n",
      "          32       0.00      0.00      0.00        61\n",
      "          33       0.00      0.00      0.00        53\n",
      "          34       0.00      0.00      0.00        70\n",
      "          35       0.00      0.00      0.00        75\n",
      "          36       0.00      0.00      0.00        80\n",
      "          37       0.00      0.00      0.00        92\n",
      "          38       0.12      0.01      0.02        93\n",
      "          39       0.67      0.03      0.06       124\n",
      "          40       0.39      0.06      0.10       127\n",
      "          41       0.32      0.06      0.10       129\n",
      "          42       0.18      0.10      0.13       131\n",
      "          43       0.22      0.08      0.12       202\n",
      "          44       0.27      0.12      0.16       191\n",
      "          45       0.10      0.76      0.18       228\n",
      "\n",
      "    accuracy                           0.12      1964\n",
      "   macro avg       0.07      0.04      0.03      1964\n",
      "weighted avg       0.17      0.12      0.08      1964\n"
     ]
    }
   ],
   "source": [
    "print(classification_report(y_test,predictions, zero_division=False))"
   ],
   "metadata": {
    "collapsed": false,
    "ExecuteTime": {
     "end_time": "2023-10-27T03:31:38.709481Z",
     "start_time": "2023-10-27T03:31:38.618201Z"
    }
   },
   "id": "77ff264020c9057b"
  },
  {
   "cell_type": "code",
   "execution_count": 27,
   "outputs": [],
   "source": [
    "from sklearn.model_selection import GridSearchCV"
   ],
   "metadata": {
    "collapsed": false,
    "ExecuteTime": {
     "end_time": "2023-10-26T19:20:44.572706Z",
     "start_time": "2023-10-26T19:20:44.550260Z"
    }
   },
   "id": "f061ee00eac8b3e0"
  },
  {
   "cell_type": "code",
   "execution_count": 28,
   "outputs": [],
   "source": [
    "param_grid_2 = {\"C\": [1, 10, 100, 1000], \"gamma\": [1, 0.1, 0.01, 0.001]}"
   ],
   "metadata": {
    "collapsed": false,
    "ExecuteTime": {
     "end_time": "2023-10-26T19:21:20.361766Z",
     "start_time": "2023-10-26T19:21:20.307300Z"
    }
   },
   "id": "ee23c0bb9d477102"
  },
  {
   "cell_type": "code",
   "execution_count": 29,
   "outputs": [],
   "source": [
    "grid_2 = GridSearchCV(SVC(),param_grid_2,refit=True,verbose=2)"
   ],
   "metadata": {
    "collapsed": false,
    "ExecuteTime": {
     "end_time": "2023-10-26T19:21:40.799214Z",
     "start_time": "2023-10-26T19:21:40.735720Z"
    }
   },
   "id": "aa8d9bc23b18c16c"
  },
  {
   "cell_type": "code",
   "execution_count": 30,
   "outputs": [
    {
     "name": "stdout",
     "output_type": "stream",
     "text": [
      "Fitting 5 folds for each of 16 candidates, totalling 80 fits\n"
     ]
    },
    {
     "name": "stderr",
     "output_type": "stream",
     "text": [
      "/Users/jacobcrawford/PycharmProjects/Learn_Web_Scraping/lotto/lib/python3.11/site-packages/sklearn/model_selection/_split.py:737: UserWarning: The least populated class in y has only 1 members, which is less than n_splits=5.\n",
      "  warnings.warn(\n"
     ]
    },
    {
     "name": "stdout",
     "output_type": "stream",
     "text": [
      "[CV] END .......................................C=1, gamma=1; total time=   6.0s\n",
      "[CV] END .......................................C=1, gamma=1; total time=   3.9s\n",
      "[CV] END .......................................C=1, gamma=1; total time=   3.9s\n",
      "[CV] END .......................................C=1, gamma=1; total time=   4.2s\n",
      "[CV] END .......................................C=1, gamma=1; total time=   4.8s\n",
      "[CV] END .....................................C=1, gamma=0.1; total time=   3.2s\n",
      "[CV] END .....................................C=1, gamma=0.1; total time=   3.3s\n",
      "[CV] END .....................................C=1, gamma=0.1; total time=   3.4s\n",
      "[CV] END .....................................C=1, gamma=0.1; total time=   3.3s\n",
      "[CV] END .....................................C=1, gamma=0.1; total time=   4.0s\n",
      "[CV] END ....................................C=1, gamma=0.01; total time=   2.3s\n",
      "[CV] END ....................................C=1, gamma=0.01; total time=   1.9s\n",
      "[CV] END ....................................C=1, gamma=0.01; total time=   1.9s\n",
      "[CV] END ....................................C=1, gamma=0.01; total time=   1.9s\n",
      "[CV] END ....................................C=1, gamma=0.01; total time=   1.9s\n",
      "[CV] END ...................................C=1, gamma=0.001; total time=   1.8s\n",
      "[CV] END ...................................C=1, gamma=0.001; total time=   2.1s\n",
      "[CV] END ...................................C=1, gamma=0.001; total time=   1.9s\n",
      "[CV] END ...................................C=1, gamma=0.001; total time=   1.7s\n",
      "[CV] END ...................................C=1, gamma=0.001; total time=   1.7s\n",
      "[CV] END ......................................C=10, gamma=1; total time=   4.1s\n",
      "[CV] END ......................................C=10, gamma=1; total time=   4.4s\n",
      "[CV] END ......................................C=10, gamma=1; total time=   4.2s\n",
      "[CV] END ......................................C=10, gamma=1; total time=   4.0s\n",
      "[CV] END ......................................C=10, gamma=1; total time=   4.0s\n",
      "[CV] END ....................................C=10, gamma=0.1; total time=   4.1s\n",
      "[CV] END ....................................C=10, gamma=0.1; total time=   3.9s\n",
      "[CV] END ....................................C=10, gamma=0.1; total time=   3.8s\n",
      "[CV] END ....................................C=10, gamma=0.1; total time=   3.8s\n",
      "[CV] END ....................................C=10, gamma=0.1; total time=   3.8s\n",
      "[CV] END ...................................C=10, gamma=0.01; total time=   2.4s\n",
      "[CV] END ...................................C=10, gamma=0.01; total time=   2.1s\n",
      "[CV] END ...................................C=10, gamma=0.01; total time=   2.0s\n",
      "[CV] END ...................................C=10, gamma=0.01; total time=   2.0s\n",
      "[CV] END ...................................C=10, gamma=0.01; total time=   2.0s\n",
      "[CV] END ..................................C=10, gamma=0.001; total time=   1.8s\n",
      "[CV] END ..................................C=10, gamma=0.001; total time=   1.8s\n",
      "[CV] END ..................................C=10, gamma=0.001; total time=   1.8s\n",
      "[CV] END ..................................C=10, gamma=0.001; total time=   2.2s\n",
      "[CV] END ..................................C=10, gamma=0.001; total time=   1.8s\n",
      "[CV] END .....................................C=100, gamma=1; total time=   3.9s\n",
      "[CV] END .....................................C=100, gamma=1; total time=   4.0s\n",
      "[CV] END .....................................C=100, gamma=1; total time=   4.2s\n",
      "[CV] END .....................................C=100, gamma=1; total time=   4.2s\n",
      "[CV] END .....................................C=100, gamma=1; total time=   4.0s\n",
      "[CV] END ...................................C=100, gamma=0.1; total time=   3.9s\n",
      "[CV] END ...................................C=100, gamma=0.1; total time=   4.3s\n",
      "[CV] END ...................................C=100, gamma=0.1; total time=   4.1s\n",
      "[CV] END ...................................C=100, gamma=0.1; total time=   4.0s\n",
      "[CV] END ...................................C=100, gamma=0.1; total time=   4.0s\n",
      "[CV] END ..................................C=100, gamma=0.01; total time=   4.0s\n",
      "[CV] END ..................................C=100, gamma=0.01; total time=   3.9s\n",
      "[CV] END ..................................C=100, gamma=0.01; total time=   4.3s\n",
      "[CV] END ..................................C=100, gamma=0.01; total time=   4.0s\n",
      "[CV] END ..................................C=100, gamma=0.01; total time=   4.0s\n",
      "[CV] END .................................C=100, gamma=0.001; total time=   2.3s\n",
      "[CV] END .................................C=100, gamma=0.001; total time=   2.3s\n",
      "[CV] END .................................C=100, gamma=0.001; total time=   2.9s\n",
      "[CV] END .................................C=100, gamma=0.001; total time=   2.5s\n",
      "[CV] END .................................C=100, gamma=0.001; total time=   2.2s\n",
      "[CV] END ....................................C=1000, gamma=1; total time=   4.3s\n",
      "[CV] END ....................................C=1000, gamma=1; total time=   4.0s\n",
      "[CV] END ....................................C=1000, gamma=1; total time=   4.0s\n",
      "[CV] END ....................................C=1000, gamma=1; total time=   4.0s\n",
      "[CV] END ....................................C=1000, gamma=1; total time=   4.0s\n",
      "[CV] END ..................................C=1000, gamma=0.1; total time=   4.4s\n",
      "[CV] END ..................................C=1000, gamma=0.1; total time=   4.3s\n",
      "[CV] END ..................................C=1000, gamma=0.1; total time=   4.2s\n",
      "[CV] END ..................................C=1000, gamma=0.1; total time=   4.0s\n",
      "[CV] END ..................................C=1000, gamma=0.1; total time=   4.4s\n",
      "[CV] END .................................C=1000, gamma=0.01; total time=  18.8s\n",
      "[CV] END .................................C=1000, gamma=0.01; total time=  19.1s\n",
      "[CV] END .................................C=1000, gamma=0.01; total time=  18.7s\n",
      "[CV] END .................................C=1000, gamma=0.01; total time=  19.3s\n",
      "[CV] END .................................C=1000, gamma=0.01; total time=  18.0s\n",
      "[CV] END ................................C=1000, gamma=0.001; total time=   6.0s\n",
      "[CV] END ................................C=1000, gamma=0.001; total time=   5.5s\n",
      "[CV] END ................................C=1000, gamma=0.001; total time=   6.0s\n",
      "[CV] END ................................C=1000, gamma=0.001; total time=   5.5s\n",
      "[CV] END ................................C=1000, gamma=0.001; total time=   5.5s\n"
     ]
    },
    {
     "data": {
      "text/plain": "GridSearchCV(estimator=SVC(),\n             param_grid={'C': [1, 10, 100, 1000],\n                         'gamma': [1, 0.1, 0.01, 0.001]},\n             verbose=2)",
      "text/html": "<style>#sk-container-id-1 {color: black;}#sk-container-id-1 pre{padding: 0;}#sk-container-id-1 div.sk-toggleable {background-color: white;}#sk-container-id-1 label.sk-toggleable__label {cursor: pointer;display: block;width: 100%;margin-bottom: 0;padding: 0.3em;box-sizing: border-box;text-align: center;}#sk-container-id-1 label.sk-toggleable__label-arrow:before {content: \"▸\";float: left;margin-right: 0.25em;color: #696969;}#sk-container-id-1 label.sk-toggleable__label-arrow:hover:before {color: black;}#sk-container-id-1 div.sk-estimator:hover label.sk-toggleable__label-arrow:before {color: black;}#sk-container-id-1 div.sk-toggleable__content {max-height: 0;max-width: 0;overflow: hidden;text-align: left;background-color: #f0f8ff;}#sk-container-id-1 div.sk-toggleable__content pre {margin: 0.2em;color: black;border-radius: 0.25em;background-color: #f0f8ff;}#sk-container-id-1 input.sk-toggleable__control:checked~div.sk-toggleable__content {max-height: 200px;max-width: 100%;overflow: auto;}#sk-container-id-1 input.sk-toggleable__control:checked~label.sk-toggleable__label-arrow:before {content: \"▾\";}#sk-container-id-1 div.sk-estimator input.sk-toggleable__control:checked~label.sk-toggleable__label {background-color: #d4ebff;}#sk-container-id-1 div.sk-label input.sk-toggleable__control:checked~label.sk-toggleable__label {background-color: #d4ebff;}#sk-container-id-1 input.sk-hidden--visually {border: 0;clip: rect(1px 1px 1px 1px);clip: rect(1px, 1px, 1px, 1px);height: 1px;margin: -1px;overflow: hidden;padding: 0;position: absolute;width: 1px;}#sk-container-id-1 div.sk-estimator {font-family: monospace;background-color: #f0f8ff;border: 1px dotted black;border-radius: 0.25em;box-sizing: border-box;margin-bottom: 0.5em;}#sk-container-id-1 div.sk-estimator:hover {background-color: #d4ebff;}#sk-container-id-1 div.sk-parallel-item::after {content: \"\";width: 100%;border-bottom: 1px solid gray;flex-grow: 1;}#sk-container-id-1 div.sk-label:hover label.sk-toggleable__label {background-color: #d4ebff;}#sk-container-id-1 div.sk-serial::before {content: \"\";position: absolute;border-left: 1px solid gray;box-sizing: border-box;top: 0;bottom: 0;left: 50%;z-index: 0;}#sk-container-id-1 div.sk-serial {display: flex;flex-direction: column;align-items: center;background-color: white;padding-right: 0.2em;padding-left: 0.2em;position: relative;}#sk-container-id-1 div.sk-item {position: relative;z-index: 1;}#sk-container-id-1 div.sk-parallel {display: flex;align-items: stretch;justify-content: center;background-color: white;position: relative;}#sk-container-id-1 div.sk-item::before, #sk-container-id-1 div.sk-parallel-item::before {content: \"\";position: absolute;border-left: 1px solid gray;box-sizing: border-box;top: 0;bottom: 0;left: 50%;z-index: -1;}#sk-container-id-1 div.sk-parallel-item {display: flex;flex-direction: column;z-index: 1;position: relative;background-color: white;}#sk-container-id-1 div.sk-parallel-item:first-child::after {align-self: flex-end;width: 50%;}#sk-container-id-1 div.sk-parallel-item:last-child::after {align-self: flex-start;width: 50%;}#sk-container-id-1 div.sk-parallel-item:only-child::after {width: 0;}#sk-container-id-1 div.sk-dashed-wrapped {border: 1px dashed gray;margin: 0 0.4em 0.5em 0.4em;box-sizing: border-box;padding-bottom: 0.4em;background-color: white;}#sk-container-id-1 div.sk-label label {font-family: monospace;font-weight: bold;display: inline-block;line-height: 1.2em;}#sk-container-id-1 div.sk-label-container {text-align: center;}#sk-container-id-1 div.sk-container {/* jupyter's `normalize.less` sets `[hidden] { display: none; }` but bootstrap.min.css set `[hidden] { display: none !important; }` so we also need the `!important` here to be able to override the default hidden behavior on the sphinx rendered scikit-learn.org. See: https://github.com/scikit-learn/scikit-learn/issues/21755 */display: inline-block !important;position: relative;}#sk-container-id-1 div.sk-text-repr-fallback {display: none;}</style><div id=\"sk-container-id-1\" class=\"sk-top-container\"><div class=\"sk-text-repr-fallback\"><pre>GridSearchCV(estimator=SVC(),\n             param_grid={&#x27;C&#x27;: [1, 10, 100, 1000],\n                         &#x27;gamma&#x27;: [1, 0.1, 0.01, 0.001]},\n             verbose=2)</pre><b>In a Jupyter environment, please rerun this cell to show the HTML representation or trust the notebook. <br />On GitHub, the HTML representation is unable to render, please try loading this page with nbviewer.org.</b></div><div class=\"sk-container\" hidden><div class=\"sk-item sk-dashed-wrapped\"><div class=\"sk-label-container\"><div class=\"sk-label sk-toggleable\"><input class=\"sk-toggleable__control sk-hidden--visually\" id=\"sk-estimator-id-1\" type=\"checkbox\" ><label for=\"sk-estimator-id-1\" class=\"sk-toggleable__label sk-toggleable__label-arrow\">GridSearchCV</label><div class=\"sk-toggleable__content\"><pre>GridSearchCV(estimator=SVC(),\n             param_grid={&#x27;C&#x27;: [1, 10, 100, 1000],\n                         &#x27;gamma&#x27;: [1, 0.1, 0.01, 0.001]},\n             verbose=2)</pre></div></div></div><div class=\"sk-parallel\"><div class=\"sk-parallel-item\"><div class=\"sk-item\"><div class=\"sk-label-container\"><div class=\"sk-label sk-toggleable\"><input class=\"sk-toggleable__control sk-hidden--visually\" id=\"sk-estimator-id-2\" type=\"checkbox\" ><label for=\"sk-estimator-id-2\" class=\"sk-toggleable__label sk-toggleable__label-arrow\">estimator: SVC</label><div class=\"sk-toggleable__content\"><pre>SVC()</pre></div></div></div><div class=\"sk-serial\"><div class=\"sk-item\"><div class=\"sk-estimator sk-toggleable\"><input class=\"sk-toggleable__control sk-hidden--visually\" id=\"sk-estimator-id-3\" type=\"checkbox\" ><label for=\"sk-estimator-id-3\" class=\"sk-toggleable__label sk-toggleable__label-arrow\">SVC</label><div class=\"sk-toggleable__content\"><pre>SVC()</pre></div></div></div></div></div></div></div></div></div></div>"
     },
     "execution_count": 30,
     "metadata": {},
     "output_type": "execute_result"
    }
   ],
   "source": [
    "grid_2.fit(X_train,y_train)"
   ],
   "metadata": {
    "collapsed": false,
    "ExecuteTime": {
     "end_time": "2023-10-26T19:27:49.992612Z",
     "start_time": "2023-10-26T19:21:48.596653Z"
    }
   },
   "id": "ea65f2591fc03d4b"
  },
  {
   "cell_type": "code",
   "execution_count": 31,
   "outputs": [
    {
     "data": {
      "text/plain": "{'C': 1, 'gamma': 1}"
     },
     "execution_count": 31,
     "metadata": {},
     "output_type": "execute_result"
    }
   ],
   "source": [
    "grid_2.best_params_"
   ],
   "metadata": {
    "collapsed": false,
    "ExecuteTime": {
     "end_time": "2023-10-26T19:29:43.568167Z",
     "start_time": "2023-10-26T19:29:43.470930Z"
    }
   },
   "id": "28e09a0497de1409"
  },
  {
   "cell_type": "code",
   "execution_count": 32,
   "outputs": [
    {
     "data": {
      "text/plain": "SVC(C=1, gamma=1)",
      "text/html": "<style>#sk-container-id-2 {color: black;}#sk-container-id-2 pre{padding: 0;}#sk-container-id-2 div.sk-toggleable {background-color: white;}#sk-container-id-2 label.sk-toggleable__label {cursor: pointer;display: block;width: 100%;margin-bottom: 0;padding: 0.3em;box-sizing: border-box;text-align: center;}#sk-container-id-2 label.sk-toggleable__label-arrow:before {content: \"▸\";float: left;margin-right: 0.25em;color: #696969;}#sk-container-id-2 label.sk-toggleable__label-arrow:hover:before {color: black;}#sk-container-id-2 div.sk-estimator:hover label.sk-toggleable__label-arrow:before {color: black;}#sk-container-id-2 div.sk-toggleable__content {max-height: 0;max-width: 0;overflow: hidden;text-align: left;background-color: #f0f8ff;}#sk-container-id-2 div.sk-toggleable__content pre {margin: 0.2em;color: black;border-radius: 0.25em;background-color: #f0f8ff;}#sk-container-id-2 input.sk-toggleable__control:checked~div.sk-toggleable__content {max-height: 200px;max-width: 100%;overflow: auto;}#sk-container-id-2 input.sk-toggleable__control:checked~label.sk-toggleable__label-arrow:before {content: \"▾\";}#sk-container-id-2 div.sk-estimator input.sk-toggleable__control:checked~label.sk-toggleable__label {background-color: #d4ebff;}#sk-container-id-2 div.sk-label input.sk-toggleable__control:checked~label.sk-toggleable__label {background-color: #d4ebff;}#sk-container-id-2 input.sk-hidden--visually {border: 0;clip: rect(1px 1px 1px 1px);clip: rect(1px, 1px, 1px, 1px);height: 1px;margin: -1px;overflow: hidden;padding: 0;position: absolute;width: 1px;}#sk-container-id-2 div.sk-estimator {font-family: monospace;background-color: #f0f8ff;border: 1px dotted black;border-radius: 0.25em;box-sizing: border-box;margin-bottom: 0.5em;}#sk-container-id-2 div.sk-estimator:hover {background-color: #d4ebff;}#sk-container-id-2 div.sk-parallel-item::after {content: \"\";width: 100%;border-bottom: 1px solid gray;flex-grow: 1;}#sk-container-id-2 div.sk-label:hover label.sk-toggleable__label {background-color: #d4ebff;}#sk-container-id-2 div.sk-serial::before {content: \"\";position: absolute;border-left: 1px solid gray;box-sizing: border-box;top: 0;bottom: 0;left: 50%;z-index: 0;}#sk-container-id-2 div.sk-serial {display: flex;flex-direction: column;align-items: center;background-color: white;padding-right: 0.2em;padding-left: 0.2em;position: relative;}#sk-container-id-2 div.sk-item {position: relative;z-index: 1;}#sk-container-id-2 div.sk-parallel {display: flex;align-items: stretch;justify-content: center;background-color: white;position: relative;}#sk-container-id-2 div.sk-item::before, #sk-container-id-2 div.sk-parallel-item::before {content: \"\";position: absolute;border-left: 1px solid gray;box-sizing: border-box;top: 0;bottom: 0;left: 50%;z-index: -1;}#sk-container-id-2 div.sk-parallel-item {display: flex;flex-direction: column;z-index: 1;position: relative;background-color: white;}#sk-container-id-2 div.sk-parallel-item:first-child::after {align-self: flex-end;width: 50%;}#sk-container-id-2 div.sk-parallel-item:last-child::after {align-self: flex-start;width: 50%;}#sk-container-id-2 div.sk-parallel-item:only-child::after {width: 0;}#sk-container-id-2 div.sk-dashed-wrapped {border: 1px dashed gray;margin: 0 0.4em 0.5em 0.4em;box-sizing: border-box;padding-bottom: 0.4em;background-color: white;}#sk-container-id-2 div.sk-label label {font-family: monospace;font-weight: bold;display: inline-block;line-height: 1.2em;}#sk-container-id-2 div.sk-label-container {text-align: center;}#sk-container-id-2 div.sk-container {/* jupyter's `normalize.less` sets `[hidden] { display: none; }` but bootstrap.min.css set `[hidden] { display: none !important; }` so we also need the `!important` here to be able to override the default hidden behavior on the sphinx rendered scikit-learn.org. See: https://github.com/scikit-learn/scikit-learn/issues/21755 */display: inline-block !important;position: relative;}#sk-container-id-2 div.sk-text-repr-fallback {display: none;}</style><div id=\"sk-container-id-2\" class=\"sk-top-container\"><div class=\"sk-text-repr-fallback\"><pre>SVC(C=1, gamma=1)</pre><b>In a Jupyter environment, please rerun this cell to show the HTML representation or trust the notebook. <br />On GitHub, the HTML representation is unable to render, please try loading this page with nbviewer.org.</b></div><div class=\"sk-container\" hidden><div class=\"sk-item\"><div class=\"sk-estimator sk-toggleable\"><input class=\"sk-toggleable__control sk-hidden--visually\" id=\"sk-estimator-id-4\" type=\"checkbox\" checked><label for=\"sk-estimator-id-4\" class=\"sk-toggleable__label sk-toggleable__label-arrow\">SVC</label><div class=\"sk-toggleable__content\"><pre>SVC(C=1, gamma=1)</pre></div></div></div></div></div>"
     },
     "execution_count": 32,
     "metadata": {},
     "output_type": "execute_result"
    }
   ],
   "source": [
    "grid_2.best_estimator_"
   ],
   "metadata": {
    "collapsed": false,
    "ExecuteTime": {
     "end_time": "2023-10-26T19:29:49.761573Z",
     "start_time": "2023-10-26T19:29:49.682199Z"
    }
   },
   "id": "6cc43f4cf5dff40d"
  },
  {
   "cell_type": "code",
   "execution_count": 33,
   "outputs": [],
   "source": [
    "grid_2_predictions = grid_2.predict(X_test)"
   ],
   "metadata": {
    "collapsed": false,
    "ExecuteTime": {
     "end_time": "2023-10-26T19:30:06.301050Z",
     "start_time": "2023-10-26T19:30:03.170095Z"
    }
   },
   "id": "aaf113676a77b256"
  },
  {
   "cell_type": "code",
   "execution_count": 34,
   "outputs": [
    {
     "name": "stdout",
     "output_type": "stream",
     "text": [
      "              precision    recall  f1-score   support\n",
      "\n",
      "          12       0.00      0.00      0.00         1\n",
      "          13       0.00      0.00      0.00         1\n",
      "          14       0.00      0.00      0.00         0\n",
      "          15       0.00      0.00      0.00         2\n",
      "          16       0.00      0.00      0.00         3\n",
      "          17       0.00      0.00      0.00         6\n",
      "          18       0.00      0.00      0.00         2\n",
      "          19       0.00      0.00      0.00         9\n",
      "          20       0.00      0.00      0.00         9\n",
      "          21       0.00      0.00      0.00        10\n",
      "          22       0.00      0.00      0.00         9\n",
      "          23       0.00      0.00      0.00         9\n",
      "          24       0.00      0.00      0.00        10\n",
      "          25       0.00      0.00      0.00        14\n",
      "          26       0.00      0.00      0.00        13\n",
      "          27       0.00      0.00      0.00        23\n",
      "          28       0.00      0.00      0.00        30\n",
      "          29       0.00      0.00      0.00        28\n",
      "          30       0.00      0.00      0.00        46\n",
      "          31       0.00      0.00      0.00        40\n",
      "          32       0.00      0.00      0.00        47\n",
      "          33       0.00      0.00      0.00        63\n",
      "          34       0.00      0.00      0.00        68\n",
      "          35       1.00      0.01      0.03        68\n",
      "          36       0.00      0.00      0.00        86\n",
      "          37       0.00      0.00      0.00        91\n",
      "          38       0.00      0.00      0.00       122\n",
      "          39       0.20      0.01      0.02       121\n",
      "          40       0.07      0.01      0.01       135\n",
      "          41       0.05      0.01      0.02       134\n",
      "          42       0.06      0.02      0.04       161\n",
      "          43       0.07      0.07      0.07       182\n",
      "          44       0.08      0.02      0.03       202\n",
      "          45       0.12      0.82      0.20       219\n",
      "\n",
      "    accuracy                           0.10      1964\n",
      "   macro avg       0.05      0.03      0.01      1964\n",
      "weighted avg       0.09      0.10      0.04      1964\n"
     ]
    }
   ],
   "source": [
    "print(classification_report(y_test,grid_2_predictions, zero_division=False))"
   ],
   "metadata": {
    "collapsed": false,
    "ExecuteTime": {
     "end_time": "2023-10-26T19:30:17.545253Z",
     "start_time": "2023-10-26T19:30:17.432031Z"
    }
   },
   "id": "383ec0df9d056c43"
  },
  {
   "cell_type": "code",
   "execution_count": 35,
   "outputs": [],
   "source": [
    "from sklearn.metrics import accuracy_score"
   ],
   "metadata": {
    "collapsed": false,
    "ExecuteTime": {
     "end_time": "2023-10-26T19:30:23.266633Z",
     "start_time": "2023-10-26T19:30:23.157818Z"
    }
   },
   "id": "fd25d10c035a51ee"
  },
  {
   "cell_type": "code",
   "execution_count": 36,
   "outputs": [],
   "source": [
    "accruacy_2 = accuracy_score(y_test, grid_2_predictions)"
   ],
   "metadata": {
    "collapsed": false,
    "ExecuteTime": {
     "end_time": "2023-10-26T19:30:28.452761Z",
     "start_time": "2023-10-26T19:30:28.391843Z"
    }
   },
   "id": "627035162d301a63"
  },
  {
   "cell_type": "code",
   "execution_count": 37,
   "outputs": [
    {
     "data": {
      "text/plain": "0.10437881873727088"
     },
     "execution_count": 37,
     "metadata": {},
     "output_type": "execute_result"
    }
   ],
   "source": [
    "accruacy_2"
   ],
   "metadata": {
    "collapsed": false,
    "ExecuteTime": {
     "end_time": "2023-10-26T19:30:32.143565Z",
     "start_time": "2023-10-26T19:30:32.007019Z"
    }
   },
   "id": "d314c56b9caa244d"
  },
  {
   "cell_type": "code",
   "execution_count": 40,
   "outputs": [
    {
     "data": {
      "text/plain": "           date  first  second  third  fourth  fifth\n0   Nov 9, 2014      8      15     29      38     40\n1  Nov 10, 2014     14      29     34      37     43\n2  Nov 10, 2014      2       3     11      36     38\n3  Nov 11, 2014      1      11     27      39     43\n4  Nov 11, 2014     10      16     37      42     43",
      "text/html": "<div>\n<style scoped>\n    .dataframe tbody tr th:only-of-type {\n        vertical-align: middle;\n    }\n\n    .dataframe tbody tr th {\n        vertical-align: top;\n    }\n\n    .dataframe thead th {\n        text-align: right;\n    }\n</style>\n<table border=\"1\" class=\"dataframe\">\n  <thead>\n    <tr style=\"text-align: right;\">\n      <th></th>\n      <th>date</th>\n      <th>first</th>\n      <th>second</th>\n      <th>third</th>\n      <th>fourth</th>\n      <th>fifth</th>\n    </tr>\n  </thead>\n  <tbody>\n    <tr>\n      <th>0</th>\n      <td>Nov 9, 2014</td>\n      <td>8</td>\n      <td>15</td>\n      <td>29</td>\n      <td>38</td>\n      <td>40</td>\n    </tr>\n    <tr>\n      <th>1</th>\n      <td>Nov 10, 2014</td>\n      <td>14</td>\n      <td>29</td>\n      <td>34</td>\n      <td>37</td>\n      <td>43</td>\n    </tr>\n    <tr>\n      <th>2</th>\n      <td>Nov 10, 2014</td>\n      <td>2</td>\n      <td>3</td>\n      <td>11</td>\n      <td>36</td>\n      <td>38</td>\n    </tr>\n    <tr>\n      <th>3</th>\n      <td>Nov 11, 2014</td>\n      <td>1</td>\n      <td>11</td>\n      <td>27</td>\n      <td>39</td>\n      <td>43</td>\n    </tr>\n    <tr>\n      <th>4</th>\n      <td>Nov 11, 2014</td>\n      <td>10</td>\n      <td>16</td>\n      <td>37</td>\n      <td>42</td>\n      <td>43</td>\n    </tr>\n  </tbody>\n</table>\n</div>"
     },
     "execution_count": 40,
     "metadata": {},
     "output_type": "execute_result"
    }
   ],
   "source": [
    "df.head()"
   ],
   "metadata": {
    "collapsed": false,
    "ExecuteTime": {
     "end_time": "2023-10-27T01:44:05.025389Z",
     "start_time": "2023-10-27T01:44:04.969232Z"
    }
   },
   "id": "4b590f7f2490faee"
  },
  {
   "cell_type": "code",
   "execution_count": 41,
   "outputs": [],
   "source": [
    "dff = df.copy()"
   ],
   "metadata": {
    "collapsed": false,
    "ExecuteTime": {
     "end_time": "2023-10-27T01:44:27.640137Z",
     "start_time": "2023-10-27T01:44:27.470707Z"
    }
   },
   "id": "66c09edc3e0eb3ff"
  },
  {
   "cell_type": "code",
   "execution_count": 42,
   "outputs": [
    {
     "data": {
      "text/plain": "           date  first  second  third  fourth  fifth\n0   Nov 9, 2014      8      15     29      38     40\n1  Nov 10, 2014     14      29     34      37     43\n2  Nov 10, 2014      2       3     11      36     38\n3  Nov 11, 2014      1      11     27      39     43\n4  Nov 11, 2014     10      16     37      42     43",
      "text/html": "<div>\n<style scoped>\n    .dataframe tbody tr th:only-of-type {\n        vertical-align: middle;\n    }\n\n    .dataframe tbody tr th {\n        vertical-align: top;\n    }\n\n    .dataframe thead th {\n        text-align: right;\n    }\n</style>\n<table border=\"1\" class=\"dataframe\">\n  <thead>\n    <tr style=\"text-align: right;\">\n      <th></th>\n      <th>date</th>\n      <th>first</th>\n      <th>second</th>\n      <th>third</th>\n      <th>fourth</th>\n      <th>fifth</th>\n    </tr>\n  </thead>\n  <tbody>\n    <tr>\n      <th>0</th>\n      <td>Nov 9, 2014</td>\n      <td>8</td>\n      <td>15</td>\n      <td>29</td>\n      <td>38</td>\n      <td>40</td>\n    </tr>\n    <tr>\n      <th>1</th>\n      <td>Nov 10, 2014</td>\n      <td>14</td>\n      <td>29</td>\n      <td>34</td>\n      <td>37</td>\n      <td>43</td>\n    </tr>\n    <tr>\n      <th>2</th>\n      <td>Nov 10, 2014</td>\n      <td>2</td>\n      <td>3</td>\n      <td>11</td>\n      <td>36</td>\n      <td>38</td>\n    </tr>\n    <tr>\n      <th>3</th>\n      <td>Nov 11, 2014</td>\n      <td>1</td>\n      <td>11</td>\n      <td>27</td>\n      <td>39</td>\n      <td>43</td>\n    </tr>\n    <tr>\n      <th>4</th>\n      <td>Nov 11, 2014</td>\n      <td>10</td>\n      <td>16</td>\n      <td>37</td>\n      <td>42</td>\n      <td>43</td>\n    </tr>\n  </tbody>\n</table>\n</div>"
     },
     "execution_count": 42,
     "metadata": {},
     "output_type": "execute_result"
    }
   ],
   "source": [
    "dff.head()"
   ],
   "metadata": {
    "collapsed": false,
    "ExecuteTime": {
     "end_time": "2023-10-27T01:44:31.833126Z",
     "start_time": "2023-10-27T01:44:31.748535Z"
    }
   },
   "id": "ea3c427284841960"
  },
  {
   "cell_type": "code",
   "execution_count": 43,
   "outputs": [],
   "source": [
    "def sum_of(row):\n",
    "    return row['first'] + row['second'] + row['third'] + row['fourth'] + row['fifth']"
   ],
   "metadata": {
    "collapsed": false,
    "ExecuteTime": {
     "end_time": "2023-10-27T02:15:33.645289Z",
     "start_time": "2023-10-27T02:15:33.528033Z"
    }
   },
   "id": "4303040a239f86b7"
  },
  {
   "cell_type": "code",
   "execution_count": 44,
   "outputs": [],
   "source": [
    "dff['sum'] = dff.apply(sum_of, axis=1)"
   ],
   "metadata": {
    "collapsed": false,
    "ExecuteTime": {
     "end_time": "2023-10-27T02:15:52.985316Z",
     "start_time": "2023-10-27T02:15:52.700581Z"
    }
   },
   "id": "4844b8687e66a7b5"
  },
  {
   "cell_type": "code",
   "execution_count": 45,
   "outputs": [
    {
     "data": {
      "text/plain": "           date  first  second  third  fourth  fifth  sum\n0   Nov 9, 2014      8      15     29      38     40  130\n1  Nov 10, 2014     14      29     34      37     43  157\n2  Nov 10, 2014      2       3     11      36     38   90\n3  Nov 11, 2014      1      11     27      39     43  121\n4  Nov 11, 2014     10      16     37      42     43  148",
      "text/html": "<div>\n<style scoped>\n    .dataframe tbody tr th:only-of-type {\n        vertical-align: middle;\n    }\n\n    .dataframe tbody tr th {\n        vertical-align: top;\n    }\n\n    .dataframe thead th {\n        text-align: right;\n    }\n</style>\n<table border=\"1\" class=\"dataframe\">\n  <thead>\n    <tr style=\"text-align: right;\">\n      <th></th>\n      <th>date</th>\n      <th>first</th>\n      <th>second</th>\n      <th>third</th>\n      <th>fourth</th>\n      <th>fifth</th>\n      <th>sum</th>\n    </tr>\n  </thead>\n  <tbody>\n    <tr>\n      <th>0</th>\n      <td>Nov 9, 2014</td>\n      <td>8</td>\n      <td>15</td>\n      <td>29</td>\n      <td>38</td>\n      <td>40</td>\n      <td>130</td>\n    </tr>\n    <tr>\n      <th>1</th>\n      <td>Nov 10, 2014</td>\n      <td>14</td>\n      <td>29</td>\n      <td>34</td>\n      <td>37</td>\n      <td>43</td>\n      <td>157</td>\n    </tr>\n    <tr>\n      <th>2</th>\n      <td>Nov 10, 2014</td>\n      <td>2</td>\n      <td>3</td>\n      <td>11</td>\n      <td>36</td>\n      <td>38</td>\n      <td>90</td>\n    </tr>\n    <tr>\n      <th>3</th>\n      <td>Nov 11, 2014</td>\n      <td>1</td>\n      <td>11</td>\n      <td>27</td>\n      <td>39</td>\n      <td>43</td>\n      <td>121</td>\n    </tr>\n    <tr>\n      <th>4</th>\n      <td>Nov 11, 2014</td>\n      <td>10</td>\n      <td>16</td>\n      <td>37</td>\n      <td>42</td>\n      <td>43</td>\n      <td>148</td>\n    </tr>\n  </tbody>\n</table>\n</div>"
     },
     "execution_count": 45,
     "metadata": {},
     "output_type": "execute_result"
    }
   ],
   "source": [
    "dff.head()"
   ],
   "metadata": {
    "collapsed": false,
    "ExecuteTime": {
     "end_time": "2023-10-27T02:15:56.213620Z",
     "start_time": "2023-10-27T02:15:56.058476Z"
    }
   },
   "id": "47a8c4e185ee8f97"
  },
  {
   "cell_type": "code",
   "execution_count": 46,
   "outputs": [],
   "source": [
    "xx = dff[['first', 'second', 'third', 'fourth', 'fifth', 'sum']]"
   ],
   "metadata": {
    "collapsed": false,
    "ExecuteTime": {
     "end_time": "2023-10-27T02:17:38.460180Z",
     "start_time": "2023-10-27T02:17:38.378864Z"
    }
   },
   "id": "4dea849e73042bf5"
  },
  {
   "cell_type": "code",
   "execution_count": 48,
   "outputs": [],
   "source": [
    "xx = xx.drop('fifth', axis=1)"
   ],
   "metadata": {
    "collapsed": false,
    "ExecuteTime": {
     "end_time": "2023-10-27T02:29:20.797345Z",
     "start_time": "2023-10-27T02:29:20.766756Z"
    }
   },
   "id": "331b94183b4854bb"
  },
  {
   "cell_type": "code",
   "execution_count": 49,
   "outputs": [
    {
     "data": {
      "text/plain": "   first  second  third  fourth  sum\n0      8      15     29      38  130\n1     14      29     34      37  157\n2      2       3     11      36   90\n3      1      11     27      39  121\n4     10      16     37      42  148",
      "text/html": "<div>\n<style scoped>\n    .dataframe tbody tr th:only-of-type {\n        vertical-align: middle;\n    }\n\n    .dataframe tbody tr th {\n        vertical-align: top;\n    }\n\n    .dataframe thead th {\n        text-align: right;\n    }\n</style>\n<table border=\"1\" class=\"dataframe\">\n  <thead>\n    <tr style=\"text-align: right;\">\n      <th></th>\n      <th>first</th>\n      <th>second</th>\n      <th>third</th>\n      <th>fourth</th>\n      <th>sum</th>\n    </tr>\n  </thead>\n  <tbody>\n    <tr>\n      <th>0</th>\n      <td>8</td>\n      <td>15</td>\n      <td>29</td>\n      <td>38</td>\n      <td>130</td>\n    </tr>\n    <tr>\n      <th>1</th>\n      <td>14</td>\n      <td>29</td>\n      <td>34</td>\n      <td>37</td>\n      <td>157</td>\n    </tr>\n    <tr>\n      <th>2</th>\n      <td>2</td>\n      <td>3</td>\n      <td>11</td>\n      <td>36</td>\n      <td>90</td>\n    </tr>\n    <tr>\n      <th>3</th>\n      <td>1</td>\n      <td>11</td>\n      <td>27</td>\n      <td>39</td>\n      <td>121</td>\n    </tr>\n    <tr>\n      <th>4</th>\n      <td>10</td>\n      <td>16</td>\n      <td>37</td>\n      <td>42</td>\n      <td>148</td>\n    </tr>\n  </tbody>\n</table>\n</div>"
     },
     "execution_count": 49,
     "metadata": {},
     "output_type": "execute_result"
    }
   ],
   "source": [
    "xx.head()"
   ],
   "metadata": {
    "collapsed": false,
    "ExecuteTime": {
     "end_time": "2023-10-27T02:29:25.745341Z",
     "start_time": "2023-10-27T02:29:25.668457Z"
    }
   },
   "id": "b0611609c10d73cc"
  },
  {
   "cell_type": "code",
   "execution_count": 50,
   "outputs": [],
   "source": [
    "yy = dff['fifth']"
   ],
   "metadata": {
    "collapsed": false,
    "ExecuteTime": {
     "end_time": "2023-10-27T02:29:48.152173Z",
     "start_time": "2023-10-27T02:29:48.067998Z"
    }
   },
   "id": "714d000e87efe595"
  },
  {
   "cell_type": "code",
   "execution_count": 51,
   "outputs": [],
   "source": [
    "X_train,X_test,y_train,y_test = train_test_split(xx,yy,test_size=0.3)"
   ],
   "metadata": {
    "collapsed": false,
    "ExecuteTime": {
     "end_time": "2023-10-27T02:37:02.670837Z",
     "start_time": "2023-10-27T02:37:02.609710Z"
    }
   },
   "id": "7f8cb5b29f350b29"
  },
  {
   "cell_type": "code",
   "execution_count": 76,
   "outputs": [],
   "source": [
    "from sklearn.tree import DecisionTreeClassifier\n",
    "dtc = DecisionTreeClassifier(criterion='entropy',\n",
    "                                  max_depth=40,random_state=30)\n",
    "dtc .fit(X_train,y_train)\n",
    "pred = dtc.predict(X_test)"
   ],
   "metadata": {
    "collapsed": false,
    "ExecuteTime": {
     "end_time": "2023-10-27T03:05:10.366916Z",
     "start_time": "2023-10-27T03:05:10.280693Z"
    }
   },
   "id": "b3165b78987ff12b"
  },
  {
   "cell_type": "code",
   "execution_count": 77,
   "outputs": [
    {
     "name": "stdout",
     "output_type": "stream",
     "text": [
      "              precision    recall  f1-score   support\n",
      "\n",
      "          14       0.00      0.00      0.00         0\n",
      "          15       0.00      0.00      0.00         2\n",
      "          16       0.25      0.25      0.25         4\n",
      "          17       0.33      0.75      0.46         4\n",
      "          18       0.20      0.14      0.17         7\n",
      "          19       0.20      0.33      0.25         6\n",
      "          20       0.00      0.00      0.00         3\n",
      "          21       1.00      0.08      0.15        12\n",
      "          22       0.08      0.11      0.10         9\n",
      "          23       0.10      0.07      0.08        14\n",
      "          24       0.07      0.05      0.06        21\n",
      "          25       0.15      0.10      0.12        21\n",
      "          26       0.22      0.26      0.24        19\n",
      "          27       0.19      0.16      0.17        25\n",
      "          28       0.12      0.10      0.11        30\n",
      "          29       0.12      0.10      0.11        42\n",
      "          30       0.17      0.17      0.17        42\n",
      "          31       0.07      0.06      0.07        47\n",
      "          32       0.09      0.08      0.09        61\n",
      "          33       0.15      0.15      0.15        53\n",
      "          34       0.19      0.21      0.20        70\n",
      "          35       0.12      0.12      0.12        75\n",
      "          36       0.11      0.10      0.10        80\n",
      "          37       0.14      0.12      0.13        92\n",
      "          38       0.16      0.24      0.19        93\n",
      "          39       0.11      0.11      0.11       124\n",
      "          40       0.13      0.13      0.13       127\n",
      "          41       0.12      0.14      0.13       129\n",
      "          42       0.11      0.17      0.14       131\n",
      "          43       0.19      0.19      0.19       202\n",
      "          44       0.21      0.18      0.19       191\n",
      "          45       0.35      0.29      0.32       228\n",
      "\n",
      "    accuracy                           0.17      1964\n",
      "   macro avg       0.17      0.16      0.15      1964\n",
      "weighted avg       0.18      0.17      0.17      1964\n"
     ]
    }
   ],
   "source": [
    "print(classification_report(y_test,pred, zero_division=False))"
   ],
   "metadata": {
    "collapsed": false,
    "ExecuteTime": {
     "end_time": "2023-10-27T03:05:11.998591Z",
     "start_time": "2023-10-27T03:05:11.903270Z"
    }
   },
   "id": "ff8c4cf3da8c0baa"
  },
  {
   "cell_type": "code",
   "execution_count": 78,
   "outputs": [],
   "source": [
    "from sklearn.metrics import accuracy_score"
   ],
   "metadata": {
    "collapsed": false,
    "ExecuteTime": {
     "end_time": "2023-10-27T03:05:16.642399Z",
     "start_time": "2023-10-27T03:05:16.601956Z"
    }
   },
   "id": "3a46344bc877a91c"
  },
  {
   "cell_type": "code",
   "execution_count": 79,
   "outputs": [
    {
     "name": "stdout",
     "output_type": "stream",
     "text": [
      "0.1664969450101833\n"
     ]
    }
   ],
   "source": [
    "accruacy_3 = accuracy_score(y_test, pred)\n",
    "print(accruacy_3)"
   ],
   "metadata": {
    "collapsed": false,
    "ExecuteTime": {
     "end_time": "2023-10-27T03:05:17.969710Z",
     "start_time": "2023-10-27T03:05:17.913601Z"
    }
   },
   "id": "6643924eea6f4492"
  },
  {
   "cell_type": "code",
   "execution_count": 81,
   "outputs": [],
   "source": [
    "from sklearn.ensemble import RandomForestClassifier\n",
    "rf = RandomForestClassifier(n_estimators=50, random_state=40)\n",
    "rf.fit(X_train,y_train)\n",
    "pred = rf.predict(X_test)"
   ],
   "metadata": {
    "collapsed": false,
    "ExecuteTime": {
     "end_time": "2023-10-27T03:16:46.381863Z",
     "start_time": "2023-10-27T03:16:45.268556Z"
    }
   },
   "id": "9612e35d1df4ce78"
  },
  {
   "cell_type": "code",
   "execution_count": 82,
   "outputs": [
    {
     "name": "stdout",
     "output_type": "stream",
     "text": [
      "              precision    recall  f1-score   support\n",
      "\n",
      "          14       0.00      0.00      0.00         0\n",
      "          15       0.00      0.00      0.00         2\n",
      "          16       0.00      0.00      0.00         4\n",
      "          17       0.25      0.50      0.33         4\n",
      "          18       0.12      0.14      0.13         7\n",
      "          19       0.17      0.17      0.17         6\n",
      "          20       0.00      0.00      0.00         3\n",
      "          21       0.14      0.08      0.11        12\n",
      "          22       0.00      0.00      0.00         9\n",
      "          23       0.27      0.21      0.24        14\n",
      "          24       0.10      0.05      0.06        21\n",
      "          25       0.00      0.00      0.00        21\n",
      "          26       0.08      0.16      0.11        19\n",
      "          27       0.19      0.28      0.23        25\n",
      "          28       0.10      0.10      0.10        30\n",
      "          29       0.21      0.14      0.17        42\n",
      "          30       0.05      0.05      0.05        42\n",
      "          31       0.08      0.06      0.07        47\n",
      "          32       0.15      0.11      0.13        61\n",
      "          33       0.17      0.17      0.17        53\n",
      "          34       0.16      0.17      0.17        70\n",
      "          35       0.08      0.07      0.07        75\n",
      "          36       0.10      0.09      0.09        80\n",
      "          37       0.03      0.03      0.03        92\n",
      "          38       0.13      0.17      0.15        93\n",
      "          39       0.14      0.13      0.14       124\n",
      "          40       0.13      0.14      0.14       127\n",
      "          41       0.14      0.13      0.13       129\n",
      "          42       0.09      0.15      0.11       131\n",
      "          43       0.20      0.21      0.21       202\n",
      "          44       0.22      0.20      0.21       191\n",
      "          45       0.37      0.30      0.33       228\n",
      "\n",
      "    accuracy                           0.16      1964\n",
      "   macro avg       0.12      0.13      0.12      1964\n",
      "weighted avg       0.17      0.16      0.16      1964\n"
     ]
    }
   ],
   "source": [
    "print(classification_report(y_test,pred, zero_division=False))"
   ],
   "metadata": {
    "collapsed": false,
    "ExecuteTime": {
     "end_time": "2023-10-27T03:16:51.708186Z",
     "start_time": "2023-10-27T03:16:51.611921Z"
    }
   },
   "id": "c6298668ccecf100"
  },
  {
   "cell_type": "code",
   "execution_count": 87,
   "outputs": [],
   "source": [
    "from sklearn.tree import DecisionTreeClassifier\n",
    "dtc = DecisionTreeClassifier(criterion='entropy',\n",
    "                                  max_depth=40,random_state=30)\n",
    "dtc .fit(xx,yy)\n",
    "pred = dtc.predict(X_test)"
   ],
   "metadata": {
    "collapsed": false,
    "ExecuteTime": {
     "end_time": "2023-10-27T16:09:15.348766Z",
     "start_time": "2023-10-27T16:09:14.741324Z"
    }
   },
   "id": "a28e7de3059195b3"
  },
  {
   "cell_type": "code",
   "execution_count": 88,
   "outputs": [
    {
     "data": {
      "text/plain": "'              precision    recall  f1-score   support\\n\\n          15       1.00      1.00      1.00         2\\n          16       1.00      1.00      1.00         4\\n          17       1.00      1.00      1.00         4\\n          18       1.00      1.00      1.00         7\\n          19       1.00      1.00      1.00         6\\n          20       1.00      1.00      1.00         3\\n          21       1.00      1.00      1.00        12\\n          22       1.00      1.00      1.00         9\\n          23       1.00      1.00      1.00        14\\n          24       1.00      1.00      1.00        21\\n          25       1.00      1.00      1.00        21\\n          26       1.00      1.00      1.00        19\\n          27       1.00      1.00      1.00        25\\n          28       1.00      1.00      1.00        30\\n          29       1.00      1.00      1.00        42\\n          30       1.00      1.00      1.00        42\\n          31       1.00      1.00      1.00        47\\n          32       1.00      1.00      1.00        61\\n          33       1.00      1.00      1.00        53\\n          34       1.00      1.00      1.00        70\\n          35       1.00      1.00      1.00        75\\n          36       1.00      1.00      1.00        80\\n          37       1.00      1.00      1.00        92\\n          38       1.00      1.00      1.00        93\\n          39       1.00      1.00      1.00       124\\n          40       1.00      1.00      1.00       127\\n          41       1.00      1.00      1.00       129\\n          42       1.00      1.00      1.00       131\\n          43       1.00      1.00      1.00       202\\n          44       1.00      1.00      1.00       191\\n          45       1.00      1.00      1.00       228\\n\\n    accuracy                           1.00      1964\\n   macro avg       1.00      1.00      1.00      1964\\nweighted avg       1.00      1.00      1.00      1964\\n'"
     },
     "execution_count": 88,
     "metadata": {},
     "output_type": "execute_result"
    }
   ],
   "source": [
    "classification_report(y_test,pred, zero_division=False)"
   ],
   "metadata": {
    "collapsed": false,
    "ExecuteTime": {
     "end_time": "2023-10-27T16:09:33.472093Z",
     "start_time": "2023-10-27T16:09:33.345118Z"
    }
   },
   "id": "8a52b3e4977cf1b"
  },
  {
   "cell_type": "code",
   "execution_count": 90,
   "outputs": [
    {
     "data": {
      "text/plain": "35"
     },
     "execution_count": 90,
     "metadata": {},
     "output_type": "execute_result"
    }
   ],
   "source": [
    "pred[-1]\n"
   ],
   "metadata": {
    "collapsed": false,
    "ExecuteTime": {
     "end_time": "2023-10-27T16:10:31.543209Z",
     "start_time": "2023-10-27T16:10:31.457135Z"
    }
   },
   "id": "34f5ccd658e7637a"
  },
  {
   "cell_type": "code",
   "execution_count": null,
   "outputs": [],
   "source": [],
   "metadata": {
    "collapsed": false
   },
   "id": "4b52213d16cb7d6d"
  }
 ],
 "metadata": {
  "kernelspec": {
   "display_name": "Python 3",
   "language": "python",
   "name": "python3"
  },
  "language_info": {
   "codemirror_mode": {
    "name": "ipython",
    "version": 2
   },
   "file_extension": ".py",
   "mimetype": "text/x-python",
   "name": "python",
   "nbconvert_exporter": "python",
   "pygments_lexer": "ipython2",
   "version": "2.7.6"
  }
 },
 "nbformat": 4,
 "nbformat_minor": 5
}
